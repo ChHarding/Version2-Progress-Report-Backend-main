{
 "cells": [
  {
   "cell_type": "code",
   "execution_count": null,
   "metadata": {},
   "outputs": [],
   "source": [
    "import pandas as pd\n",
    "df = pd.read_excel('ecommerce_clothing.xlsx')\n",
    "df.head()"
   ]
  },
  {
   "cell_type": "code",
   "execution_count": null,
   "metadata": {},
   "outputs": [],
   "source": [
    "cols = ['product_name',\n",
    " 'manufacturer',\n",
    " 'price',\n",
    " 'average_review_rating',\n",
    " 'amazon_category_and_sub_category',\n",
    " 'product_information',\n",
    " 'product_description']\n",
    "\n",
    "df = df[cols]\n",
    "list(df)"
   ]
  },
  {
   "cell_type": "code",
   "execution_count": null,
   "metadata": {},
   "outputs": [],
   "source": [
    "df['price'] = df['price'].str[2:]\n",
    "df.head()"
   ]
  },
  {
   "cell_type": "code",
   "execution_count": null,
   "metadata": {},
   "outputs": [],
   "source": [
    "df['price'] = df['price'].str.split(' ').str[0]\n",
    "df.head()"
   ]
  },
  {
   "cell_type": "code",
   "execution_count": null,
   "metadata": {},
   "outputs": [],
   "source": [
    "df['average_review_rating'] = df['average_review_rating'].str[:3]\n",
    "df.head()"
   ]
  },
  {
   "cell_type": "code",
   "execution_count": null,
   "metadata": {},
   "outputs": [],
   "source": [
    "df['price'] = pd.to_numeric(df['price'], errors='coerce') # coerce will convert the error to NaN\n",
    "\n",
    "# drop the rows that have NaN in the price column\n",
    "df = df.dropna(subset=['price'])\n",
    "df.head()"
   ]
  },
  {
   "cell_type": "code",
   "execution_count": null,
   "metadata": {},
   "outputs": [],
   "source": [
    "df['average_review_rating'] = pd.to_numeric(df['average_review_rating'])\n",
    "df.head()"
   ]
  },
  {
   "cell_type": "code",
   "execution_count": null,
   "metadata": {},
   "outputs": [],
   "source": [
    "df.describe()"
   ]
  },
  {
   "cell_type": "code",
   "execution_count": null,
   "metadata": {},
   "outputs": [],
   "source": [
    "df = df.dropna(subset=['amazon_category_and_sub_category'])\n",
    "\n",
    "# make a new df with all the unique values in the amazon_category_and_sub_category column and show how often each occurs\n",
    "df_cats = df['amazon_category_and_sub_category'].value_counts()\n",
    "df_cats.head(20)"
   ]
  },
  {
   "cell_type": "code",
   "execution_count": null,
   "metadata": {},
   "outputs": [],
   "source": [
    "df_cats.describe()"
   ]
  },
  {
   "cell_type": "code",
   "execution_count": null,
   "metadata": {},
   "outputs": [],
   "source": [
    "cats_to_remove = df_cats[df_cats < 5].index.tolist()\n",
    "print(cats_to_remove)\n",
    "\n",
    "# now remove all the rows that have a category that occurs less than 5 times\n",
    "df = df[~df['amazon_category_and_sub_category'].isin(cats_to_remove)]\n",
    "df['amazon_category_and_sub_category'].value_counts()"
   ]
  },
  {
   "cell_type": "code",
   "execution_count": null,
   "metadata": {},
   "outputs": [],
   "source": [
    "df['amazon_category_and_sub_category'].nunique()"
   ]
  },
  {
   "cell_type": "code",
   "execution_count": null,
   "metadata": {},
   "outputs": [],
   "source": [
    "df['amazon_category_and_sub_category'].str.split('>').str.len().gt(5).sum()"
   ]
  },
  {
   "cell_type": "code",
   "execution_count": null,
   "metadata": {},
   "outputs": [],
   "source": [
    "df['cat1'] = df['amazon_category_and_sub_category'].str.split('>').str[0]\n",
    "df['cat2'] = df['amazon_category_and_sub_category'].str.split('>').str[1]\n",
    "df['cat3'] = df['amazon_category_and_sub_category'].str.split('>').str[2]\n",
    "df['cat4'] = df['amazon_category_and_sub_category'].str.split('>').str[3]\n",
    "df['cat5'] = df['amazon_category_and_sub_category'].str.split('>').str[4]\n",
    "df.head()"
   ]
  },
  {
   "cell_type": "code",
   "execution_count": null,
   "metadata": {},
   "outputs": [],
   "source": [
    "cols = list(df)\n",
    "cols.insert(5, cols.pop(cols.index('cat1')))\n",
    "cols.insert(6, cols.pop(cols.index('cat2')))\n",
    "cols.insert(7, cols.pop(cols.index('cat3')))\n",
    "cols.insert(8, cols.pop(cols.index('cat4')))\n",
    "cols.insert(9, cols.pop(cols.index('cat5')))\n",
    "df = df.loc[:, cols]\n",
    "df.head()"
   ]
  },
  {
   "cell_type": "code",
   "execution_count": null,
   "metadata": {},
   "outputs": [],
   "source": [
    "df['product_name'] = df['product_name'].str.encode('ascii', 'ignore').str.decode('ascii')\n",
    "df['product_information'] = df['product_information'].str.encode('ascii', 'ignore').str.decode('ascii')\n",
    "df['product_description'] = df['product_description'].str.encode('ascii', 'ignore').str.decode('ascii')\n",
    "df.head()"
   ]
  },
  {
   "cell_type": "code",
   "execution_count": null,
   "metadata": {},
   "outputs": [],
   "source": [
    "df['cat1'].value_counts().plot(kind='bar')"
   ]
  },
  {
   "cell_type": "code",
   "execution_count": null,
   "metadata": {},
   "outputs": [],
   "source": [
    "low_cat1 = df['cat1'].value_counts().tail(4).index.tolist()\n",
    "print(low_cat1)\n",
    "\n",
    "# remove the rows where the cat1 column is in the low_cat1 list\n",
    "df = df[~df['cat1'].isin(low_cat1)]\n",
    "\n",
    "# plot how many rows there are for each category\n",
    "df['cat1'].value_counts().plot(kind='bar');\n"
   ]
  },
  {
   "cell_type": "code",
   "execution_count": null,
   "metadata": {},
   "outputs": [],
   "source": [
    "df_mf = df['manufacturer'].value_counts()\n",
    "print(df_mf.head(20))\n",
    "df_mf.describe()"
   ]
  },
  {
   "cell_type": "code",
   "execution_count": null,
   "metadata": {},
   "outputs": [],
   "source": [
    "mf_to_remove = df_mf[df_mf < 5].index.tolist()\n",
    "\n",
    "# now remove all the rows that have a manufacturer that occurs less than 5 times\n",
    "df = df[~df['manufacturer'].isin(mf_to_remove)]\n",
    "df['manufacturer'].value_counts() "
   ]
  },
  {
   "cell_type": "code",
   "execution_count": null,
   "metadata": {},
   "outputs": [],
   "source": [
    "df['manufacturer'].nunique()"
   ]
  },
  {
   "cell_type": "code",
   "execution_count": null,
   "metadata": {},
   "outputs": [],
   "source": [
    "import matplotlib.pyplot as plt\n",
    "plt.figure(figsize=(20,7))\n",
    "df['manufacturer'].value_counts().plot.hist(bins=32)"
   ]
  },
  {
   "cell_type": "code",
   "execution_count": null,
   "metadata": {},
   "outputs": [],
   "source": [
    "df.to_excel('amazon_UK-ecommerce_cleaned.xlsx', index=False)"
   ]
  },
  {
   "cell_type": "code",
   "execution_count": null,
   "metadata": {},
   "outputs": [],
   "source": []
  }
 ],
 "metadata": {
  "language_info": {
   "name": "python"
  },
  "orig_nbformat": 4
 },
 "nbformat": 4,
 "nbformat_minor": 2
}
